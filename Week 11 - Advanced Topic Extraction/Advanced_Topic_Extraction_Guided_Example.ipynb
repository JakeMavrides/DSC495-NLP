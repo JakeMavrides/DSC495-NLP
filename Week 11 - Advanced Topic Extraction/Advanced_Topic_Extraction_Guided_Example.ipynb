{
  "cells": [
    {
      "cell_type": "code",
      "execution_count": 9,
      "metadata": {
        "id": "kSHnn_NjVlP_"
      },
      "outputs": [],
      "source": [
        "import numpy as np\n",
        "import pandas as pd\n",
        "import scipy\n",
        "import matplotlib.pyplot as plt\n",
        "import seaborn as sns\n",
        "%matplotlib inline\n",
        "import warnings\n",
        "# Suppress annoying harmless error.\n",
        "warnings.simplefilter('ignore')"
      ]
    },
    {
      "cell_type": "markdown",
      "metadata": {
        "id": "bxP7Fb57VlQA"
      },
      "source": [
        "# Comparing LSA, LDA, and NNMF\n",
        "\n",
        "Now that you've been introduced to the logic behind these three topic extraction methods, we're going to try them out on the *Emma* corpus.  We'll be looking at interpretability, speed, and consistency across methods.  The goal is to identify common themes in *Emma* on a per-paragraph basis.  We won't be using pLSA as sklearn does not support it.\n",
        "\n",
        "To do this, we will:\n",
        "\n",
        "1. Parse and process the data into a tf-idf matrix.\n",
        "2. Fit LSA, LDA, and NNMF models with 5 topics each.\n",
        "4. Extract the words that best describe each topic.\n",
        "5. Examine the topic relationships for the words 'marriage', 'love', and 'Emma.'\n",
        "\n",
        "## Generating the tfidf matrix"
      ]
    },
    {
      "cell_type": "code",
      "execution_count": 10,
      "metadata": {
        "colab": {
          "base_uri": "https://localhost:8080/"
        },
        "id": "VEoYK3_VVlQB",
        "outputId": "26c16506-7fdd-4fe4-b8f2-15949f8ab3fb"
      },
      "outputs": [
        {
          "output_type": "stream",
          "name": "stderr",
          "text": [
            "[nltk_data] Downloading package gutenberg to /root/nltk_data...\n",
            "[nltk_data]   Package gutenberg is already up-to-date!\n"
          ]
        },
        {
          "output_type": "execute_result",
          "data": {
            "text/plain": [
              "True"
            ]
          },
          "metadata": {},
          "execution_count": 10
        }
      ],
      "source": [
        "import nltk\n",
        "nltk.download('gutenberg')"
      ]
    },
    {
      "cell_type": "code",
      "source": [
        "#nltk.download('punkt')"
      ],
      "metadata": {
        "colab": {
          "base_uri": "https://localhost:8080/"
        },
        "id": "H7H_-sy9Wa2m",
        "outputId": "1403ca2b-a5a5-4299-c83c-c4a6abc3a1a9"
      },
      "execution_count": 7,
      "outputs": [
        {
          "output_type": "stream",
          "name": "stderr",
          "text": [
            "[nltk_data] Downloading package punkt to /root/nltk_data...\n",
            "[nltk_data]   Unzipping tokenizers/punkt.zip.\n"
          ]
        },
        {
          "output_type": "execute_result",
          "data": {
            "text/plain": [
              "True"
            ]
          },
          "metadata": {},
          "execution_count": 7
        }
      ]
    },
    {
      "cell_type": "code",
      "source": [
        "from nltk.corpus import gutenberg\n",
        "import re\n",
        "from sklearn.feature_extraction.text import TfidfVectorizer"
      ],
      "metadata": {
        "id": "ke8kqHU6Wm2A"
      },
      "execution_count": 11,
      "outputs": []
    },
    {
      "cell_type": "code",
      "execution_count": 14,
      "metadata": {
        "colab": {
          "base_uri": "https://localhost:8080/"
        },
        "id": "lRoHF-j4VlQC",
        "outputId": "d618aadd-2989-443d-8f39-83f434984f0a"
      },
      "outputs": [
        {
          "output_type": "stream",
          "name": "stdout",
          "text": [
            "Number of features: 1948\n",
            "Original sentence: Sixteen years had Miss Taylor been in Mr . Woodhouse ' s family , less as a governess than a friend , very fond of both daughters , but particularly of Emma .\n",
            "Tf_idf vector: {'particularly': 0.2814055263803092, 'fond': 0.3256846686003196, 'friend': 0.23007822220919644, 'governess': 0.36585761136372763, 'family': 0.2886681648414907, 'mr': 0.13747346829746437, 'taylor': 0.29718151210286586, 'miss': 0.1792430775601972, 'sixteen': 0.3548032284640553, 'daughters': 0.36585761136372763, 'years': 0.29417820871919326, 'woodhouse': 0.203979614808072, 'emma': 0.1318856546488206}\n"
          ]
        }
      ],
      "source": [
        "# Processing the data.\n",
        "\n",
        "# from nltk.corpus import gutenberg\n",
        "# import re\n",
        "# from sklearn.feature_extraction.text import TfidfVectorizer\n",
        "\n",
        "\n",
        "#reading in the data, this time in the form of paragraphs\n",
        "emma=gutenberg.paras('austen-emma.txt')\n",
        "#processing\n",
        "emma_paras=[]\n",
        "for paragraph in emma:\n",
        "    para=paragraph[0]\n",
        "    #removing the double-dash from all words\n",
        "    para=[re.sub(r'--','',word) for word in para]\n",
        "    #Forming each paragraph into a string and adding it to the list of strings.\n",
        "    emma_paras.append(' '.join(para))\n",
        "\n",
        "# Creating the tf-idf matrix.\n",
        "#vectorizer = TfidfVectorizer(stop_words='english')\n",
        "\n",
        "vectorizer = TfidfVectorizer(max_df=0.5, # drop words that occur in more than half the paragraphs\n",
        "                             min_df=2, # only use words that appear at least twice\n",
        "                             stop_words='english',\n",
        "                             lowercase=True, #convert everything to lower case (since Alice in Wonderland has the HABIT of CAPITALIZING WORDS for EMPHASIS)\n",
        "                             use_idf=True,#we definitely want to use inverse document frequencies in our weighting\n",
        "                             norm=u'l2', #Applies a correction factor so that longer paragraphs and shorter paragraphs get treated equally\n",
        "                             smooth_idf=True #Adds 1 to all document frequencies, as if an extra document existed that used every word once.  Prevents divide-by-zero errors\n",
        "                            )\n",
        "\n",
        "\n",
        "emma_paras_tfidf=vectorizer.fit_transform(emma_paras)\n",
        "print(\"Number of features: %d\" % emma_paras_tfidf.get_shape()[1])\n",
        "\n",
        "\n",
        "\n",
        "#Reshapes the vectorizer output into something people can read\n",
        "emma_paras_tfidf_csr = emma_paras_tfidf.tocsr()\n",
        "\n",
        "#number of paragraphs\n",
        "n = emma_paras_tfidf_csr.shape[0]\n",
        "#A list of dictionaries, one per paragraph\n",
        "tfidf_bypara = [{} for _ in range(0,n)]\n",
        "#List of features\n",
        "terms = vectorizer.get_feature_names_out()\n",
        "#for each paragraph, lists the feature words and their tf-idf scores\n",
        "for i, j in zip(*emma_paras_tfidf_csr.nonzero()):\n",
        "    tfidf_bypara[i][terms[j]] = emma_paras_tfidf_csr[i, j]\n",
        "\n",
        "#Keep in mind that the log base 2 of 1 is 0, so a tf-idf score of 0 indicates that the word was present once in that sentence.\n",
        "print('Original sentence:', emma_paras[5])\n",
        "print('Tf_idf vector:', tfidf_bypara[5])\n",
        "\n",
        "\n",
        "# Getting the word list.\n",
        "terms = vectorizer.get_feature_names_out()\n",
        "\n",
        "# Number of topics.\n",
        "ntopics=5\n",
        "\n",
        "# Linking words to topics\n",
        "def word_topic(tfidf,solution, wordlist):\n",
        "\n",
        "    # Loading scores for each word on each topic/component.\n",
        "    words_by_topic=tfidf.T * solution\n",
        "\n",
        "    # Linking the loadings to the words in an easy-to-read way.\n",
        "    components=pd.DataFrame(words_by_topic,index=wordlist)\n",
        "\n",
        "    return components\n",
        "\n",
        "# Extracts the top N words and their loadings for each topic.\n",
        "def top_words(components, n_top_words):\n",
        "    n_topics = range(components.shape[1])\n",
        "    index= np.repeat(n_topics, n_top_words, axis=0)\n",
        "    topwords=pd.Series(index=index)\n",
        "    for column in range(components.shape[1]):\n",
        "        # Sort the column so that highest loadings are at the top.\n",
        "        sortedwords=components.iloc[:,column].sort_values(ascending=False)\n",
        "        # Choose the N highest loadings.\n",
        "        chosen=sortedwords[:n_top_words]\n",
        "        # Combine loading and index into a string.\n",
        "        chosenlist=chosen.index +\" \"+round(chosen,2).map(str)\n",
        "        topwords.loc[column]=[x for x in chosenlist]\n",
        "    return(topwords)\n",
        "\n",
        "# Number of words to look at for each topic.\n",
        "n_top_words = 10\n"
      ]
    },
    {
      "cell_type": "markdown",
      "metadata": {
        "id": "D_Q83hslVlQC"
      },
      "source": [
        "In addition to creating the tfidf matrix, there are two convenience functions that will help keep the code tidy when comparing models.  The first provides a list of the words that are paired with each topic.  The second gives us the best words for each topic so we can compare across methods.\n",
        "\n",
        "## Fitting the three topic extraction models"
      ]
    },
    {
      "cell_type": "code",
      "execution_count": 15,
      "metadata": {
        "id": "d_QL3sz1VlQC"
      },
      "outputs": [],
      "source": [
        "# LSA\n",
        "\n",
        "from sklearn.decomposition import TruncatedSVD\n",
        "from sklearn.pipeline import make_pipeline\n",
        "from sklearn.preprocessing import Normalizer\n",
        "\n",
        "svd= TruncatedSVD(ntopics)\n",
        "lsa = make_pipeline(svd, Normalizer(copy=False))\n",
        "emma_paras_lsa = lsa.fit_transform(emma_paras_tfidf)\n",
        "\n",
        "components_lsa = word_topic(emma_paras_tfidf, emma_paras_lsa, terms)\n",
        "\n",
        "topwords=pd.DataFrame()\n",
        "topwords['LSA']=top_words(components_lsa, n_top_words)\n"
      ]
    },
    {
      "cell_type": "code",
      "execution_count": 16,
      "metadata": {
        "id": "Wx5ho38SVlQC"
      },
      "outputs": [],
      "source": [
        "# LDA\n",
        "from sklearn.decomposition import LatentDirichletAllocation as LDA\n",
        "\n",
        "lda = LDA(n_components=ntopics,\n",
        "          doc_topic_prior=None, # Prior = 1/n_documents\n",
        "          topic_word_prior=1/ntopics,\n",
        "          learning_decay=0.7, # Convergence rate.\n",
        "          learning_offset=10.0, # Causes earlier iterations to have less influence on the learning\n",
        "          max_iter=10, # when to stop even if the model is not converging (to prevent running forever)\n",
        "          evaluate_every=-1, # Do not evaluate perplexity, as it slows training time.\n",
        "          mean_change_tol=0.001, # Stop updating the document topic distribution in the E-step when mean change is < tol\n",
        "          max_doc_update_iter=100, # When to stop updating the document topic distribution in the E-step even if tol is not reached\n",
        "          n_jobs=-1, # Use all available CPUs to speed up processing time.\n",
        "          verbose=0, # amount of output to give while iterating\n",
        "          random_state=0\n",
        "         )\n",
        "\n",
        "emma_paras_lda = lda.fit_transform(emma_paras_tfidf)\n",
        "\n",
        "components_lda = word_topic(emma_paras_tfidf, emma_paras_lda, terms)\n",
        "\n",
        "topwords['LDA']=top_words(components_lda, n_top_words)\n"
      ]
    },
    {
      "cell_type": "code",
      "execution_count": 18,
      "metadata": {
        "id": "9nZvttc7VlQD"
      },
      "outputs": [],
      "source": [
        "# NNMF\n",
        "\n",
        "from sklearn.decomposition import NMF\n",
        "\n",
        "nmf = NMF(#alpha=0.0,\n",
        "          init='nndsvdar', # how starting value are calculated\n",
        "          l1_ratio=0.0, # Sets whether regularization is L2 (0), L1 (1), or a combination (values between 0 and 1)\n",
        "          max_iter=200, # when to stop even if the model is not converging (to prevent running forever)\n",
        "          n_components=ntopics,\n",
        "          random_state=0,\n",
        "          solver='cd', # Use Coordinate Descent to solve\n",
        "          tol=0.0001, # model will stop if tfidf-WH <= tol\n",
        "          verbose=0 # amount of output to give while iterating\n",
        "         )\n",
        "emma_paras_nmf = nmf.fit_transform(emma_paras_tfidf)\n",
        "\n",
        "components_nmf = word_topic(emma_paras_tfidf, emma_paras_nmf, terms)\n",
        "\n",
        "topwords['NNMF']=top_words(components_nmf, n_top_words)"
      ]
    },
    {
      "cell_type": "markdown",
      "metadata": {
        "id": "xvZ96CBSVlQD"
      },
      "source": [
        "We are mostly using the default settings for each method, but explicitly printing them so it is clear what is going on and how each model can be modified.  sklearn has such nice parallel structure for its various topic extraction methods that we could probably have abstracted the code even further."
      ]
    },
    {
      "cell_type": "markdown",
      "metadata": {
        "id": "k7VCRmZ4VlQD"
      },
      "source": [
        "# Inspecting the topics\n",
        "\n",
        "For each topic, we list the ten most-relevant words according to each method:"
      ]
    },
    {
      "cell_type": "code",
      "execution_count": 19,
      "metadata": {
        "colab": {
          "base_uri": "https://localhost:8080/"
        },
        "id": "jPAJY_0bVlQF",
        "outputId": "4175d697-44c7-42f4-c9c6-c471f9b31046"
      },
      "outputs": [
        {
          "output_type": "stream",
          "name": "stdout",
          "text": [
            "Topic 0:\n",
            "               LSA           LDA             NNMF\n",
            "0         oh 97.98      ah 18.38         oh 30.17\n",
            "0          yes 5.8    emma 14.49         yes 0.55\n",
            "0       thank 1.79      mr 11.69       sorry 0.16\n",
            "0  difference 1.69       oh 9.67  difference 0.15\n",
            "0        just 1.57      said 8.8        just 0.13\n",
            "0      harriet 1.5  chapter 7.76        papa 0.12\n",
            "0       sorry 1.34      mrs 7.62       short 0.12\n",
            "0       short 1.27    elton 7.23        week 0.11\n",
            "0        papa 1.21  harriet 6.69       cried 0.11\n",
            "0        cried 1.2   weston 6.03    recollect 0.1\n",
            "Topic 1:\n",
            "             LSA            LDA            NNMF\n",
            "1       mr 63.19       mr 28.05         mr 7.95\n",
            "1     emma 62.43     emma 20.62        mrs 4.65\n",
            "1     said 54.09     miss 18.24     weston 3.74\n",
            "1      mrs 48.58      mrs 14.55      elton 3.63\n",
            "1     miss 41.81     said 14.52  knightley 3.46\n",
            "1  harriet 38.26  harriet 12.83       miss 3.15\n",
            "1   weston 34.49   weston 12.32  woodhouse 2.34\n",
            "1    think 29.94    elton 11.55       said 1.96\n",
            "1       did 29.8       oh 10.69    fairfax 1.95\n",
            "1    elton 29.76     sure 10.59       emma 1.67\n",
            "Topic 2:\n",
            "             LSA           LDA          NNMF\n",
            "2       ah 31.24    emma 13.32      ah 12.91\n",
            "2      sure 4.78     yes 12.12     sure 0.36\n",
            "2       say 1.51    dear 10.75      say 0.19\n",
            "2      dear 1.13    said 10.74  believe 0.18\n",
            "2   believe 0.93      oh 10.65      dear 0.1\n",
            "2     sorry 0.93     mrs 10.37     poor 0.09\n",
            "2      poor 0.88      mr 10.35   taylor 0.09\n",
            "2      miss 0.54     jane 9.36    shake 0.09\n",
            "2  business 0.52  fairfax 7.75    hands 0.09\n",
            "2      come 0.52     good 7.64    sorry 0.09\n",
            "Topic 3:\n",
            "            LSA            LDA           NNMF\n",
            "3  chapter 34.4       oh 57.54  chapter 10.71\n",
            "3        ii 3.2     said 16.12       iii 0.68\n",
            "3       iii 3.2  chapter 15.21        ii 0.68\n",
            "3       vi 2.52     emma 14.14     xviii 0.65\n",
            "3     xvii 2.52      mrs 12.01        xi 0.65\n",
            "3    xviii 2.52         mr 8.8      xiii 0.65\n",
            "3       xv 2.52    weston 8.54       xiv 0.65\n",
            "3       ix 2.52       did 8.14        xv 0.65\n",
            "3      xiv 2.52       yes 7.33       xvi 0.65\n",
            "3       xi 2.52   harriet 6.53      xvii 0.65\n",
            "Topic 4:\n",
            "             LSA              LDA          NNMF\n",
            "4     emma 48.26       emma 22.42     emma 10.7\n",
            "4      said 23.4         mr 18.97     said 6.79\n",
            "4      dear 21.7       said 14.07     dear 3.15\n",
            "4  harriet 19.02  knightley 13.89  harriet 3.04\n",
            "4      yes 11.28    harriet 13.28      yes 1.83\n",
            "4      sure 9.83       think 9.81        mr 1.8\n",
            "4     shall 9.72          oh 9.79     think 1.7\n",
            "4     think 7.27        miss 9.75      say 1.46\n",
            "4       say 7.11        true 8.72    thing 1.36\n",
            "4      good 5.72         mrs 8.61      mrs 1.31\n"
          ]
        }
      ],
      "source": [
        "for topic in range(ntopics):\n",
        "    print('Topic {}:'.format(topic))\n",
        "    print(topwords.loc[topic])\n",
        ""
      ]
    },
    {
      "cell_type": "markdown",
      "metadata": {
        "id": "yCrC4WT6VlQF"
      },
      "source": [
        "A number of things are clear.  First, some topics are shared, though the order of topics varies- the 'oh' topic is first for LSA and NNMF, but second for LDA.  And second, the content of some of the topics varies considerably across methods.  This is a clear argument for using multiple methods when exploring topics.\n",
        "\n",
        "# Sparsity\n",
        "\n",
        "Now let's examine sparsity by looking at the distributions of loadings for the words 'marriage', 'love', 'emma', and 'oh' across the methods:"
      ]
    },
    {
      "cell_type": "code",
      "execution_count": 20,
      "metadata": {
        "code_folding": [
          3
        ],
        "colab": {
          "base_uri": "https://localhost:8080/",
          "height": 1000
        },
        "id": "vcDAFD73VlQF",
        "outputId": "b2ee6949-2f3e-4940-8ee0-b712924cf612"
      },
      "outputs": [
        {
          "output_type": "display_data",
          "data": {
            "text/plain": [
              "<Figure size 640x480 with 1 Axes>"
            ],
            "image/png": "[encoded data removed]"
          },
          "metadata": {}
        },
        {
          "output_type": "display_data",
          "data": {
            "text/plain": [
              "<Figure size 640x480 with 1 Axes>"
            ],
            "image/png": "[encoded data removed]"
          },
          "metadata": {}
        },
        {
          "output_type": "display_data",
          "data": {
            "text/plain": [
              "<Figure size 640x480 with 1 Axes>"
            ],
            "image/png": "[encoded data removed]"
          },
          "metadata": {}
        },
        {
          "output_type": "display_data",
          "data": {
            "text/plain": [
              "<Figure size 640x480 with 1 Axes>"
            ],
            "image/png": "[encoded data removed]"
          },
          "metadata": {}
        }
      ],
      "source": [
        "# The words to look at.\n",
        "targetwords=['marriage','love','emma','oh']\n",
        "\n",
        "# Storing the loadings.\n",
        "wordloadings=pd.DataFrame(columns=targetwords)\n",
        "\n",
        "# For each word, extracting and string the loadings for each method.\n",
        "for word in targetwords:\n",
        "    loadings=components_lsa.loc[word].append(\n",
        "        components_lda.loc[word]).append(\n",
        "            components_nmf.loc[word])\n",
        "    wordloadings[word]=loadings\n",
        "\n",
        "# Labeling the data by method and providing an ordering variable for graphing purposes.\n",
        "wordloadings['method']=np.repeat(['LSA','LDA','NNMF'], 5, axis=0)\n",
        "wordloadings['loading']=[0,1,2,3,4]*3\n",
        "\n",
        "sns.set(style=\"darkgrid\")\n",
        "\n",
        "for word in targetwords:\n",
        "    sns.barplot(x=\"method\", y=word, hue=\"loading\", data=wordloadings)\n",
        "    plt.title(word)\n",
        "    plt.ylabel(\"\")\n",
        "    plt.show()\n"
      ]
    },
    {
      "cell_type": "markdown",
      "metadata": {
        "id": "_LFpyBCZVlQF"
      },
      "source": [
        "LSA is the method most likely to have high loadings on more than one topic for the same word.  LDA tends to have one high loading and some lower loadings.  Loadings for NNMF are lower all around, and the most sparse, with some of the topics having loadings of zero on each word.\n",
        "\n",
        "# Challenge: Topic extraction on new data\n",
        "\n",
        "Take the well-known [20 newsgroups](http://qwone.com/~jason/20Newsgroups/) dataset and use each of the methods on it.  Your goal is to determine which method, if any, best reproduces the topics represented by the newsgroups.  Write up a report where you evaluate each method in light of the 'ground truth'- the known source of each newsgroup post.  Which works best, and why do you think this is the case?\n",
        "\n"
      ]
    },
    {
      "cell_type": "code",
      "execution_count": null,
      "metadata": {
        "id": "UHAnS8kCVlQF"
      },
      "outputs": [],
      "source": []
    }
  ],
  "metadata": {
    "hide_input": false,
    "kernelspec": {
      "display_name": "Python 3",
      "language": "python",
      "name": "python3"
    },
    "language_info": {
      "codemirror_mode": {
        "name": "ipython",
        "version": 3
      },
      "file_extension": ".py",
      "mimetype": "text/x-python",
      "name": "python",
      "nbconvert_exporter": "python",
      "pygments_lexer": "ipython3",
      "version": "3.8.5"
    },
    "colab": {
      "provenance": []
    }
  },
  "nbformat": 4,
  "nbformat_minor": 0
}